{
 "cells": [
  {
   "cell_type": "code",
   "execution_count": 12,
   "metadata": {},
   "outputs": [
    {
     "data": {
      "application/javascript": [
       "\n",
       "            setTimeout(function() {\n",
       "                var nbb_cell_id = 12;\n",
       "                var nbb_unformatted_code = \"%load_ext nb_black\";\n",
       "                var nbb_formatted_code = \"%load_ext nb_black\";\n",
       "                var nbb_cells = Jupyter.notebook.get_cells();\n",
       "                for (var i = 0; i < nbb_cells.length; ++i) {\n",
       "                    if (nbb_cells[i].input_prompt_number == nbb_cell_id) {\n",
       "                        if (nbb_cells[i].get_text() == nbb_unformatted_code) {\n",
       "                             nbb_cells[i].set_text(nbb_formatted_code);\n",
       "                        }\n",
       "                        break;\n",
       "                    }\n",
       "                }\n",
       "            }, 500);\n",
       "            "
      ],
      "text/plain": [
       "<IPython.core.display.Javascript object>"
      ]
     },
     "metadata": {},
     "output_type": "display_data"
    }
   ],
   "source": [
    "%load_ext nb_black"
   ]
  },
  {
   "cell_type": "code",
   "execution_count": 1,
   "metadata": {},
   "outputs": [
    {
     "ename": "ImportError",
     "evalue": "MagickWand shared library not found.\nYou probably had not installed ImageMagick library.\nTry to install:\n  http://docs.wand-py.org/en/latest/guide/install.html",
     "output_type": "error",
     "traceback": [
      "\u001b[0;31m---------------------------------------------------------------------------\u001b[0m",
      "\u001b[0;31mOSError\u001b[0m                                   Traceback (most recent call last)",
      "\u001b[0;32m~/.local/lib/python3.8/site-packages/wand/api.py\u001b[0m in \u001b[0;36m<module>\u001b[0;34m\u001b[0m\n\u001b[1;32m    150\u001b[0m \u001b[0;32mtry\u001b[0m\u001b[0;34m:\u001b[0m\u001b[0;34m\u001b[0m\u001b[0;34m\u001b[0m\u001b[0m\n\u001b[0;32m--> 151\u001b[0;31m     \u001b[0mlibraries\u001b[0m \u001b[0;34m=\u001b[0m \u001b[0mload_library\u001b[0m\u001b[0;34m(\u001b[0m\u001b[0;34m)\u001b[0m\u001b[0;34m\u001b[0m\u001b[0;34m\u001b[0m\u001b[0m\n\u001b[0m\u001b[1;32m    152\u001b[0m \u001b[0;32mexcept\u001b[0m \u001b[0;34m(\u001b[0m\u001b[0mOSError\u001b[0m\u001b[0;34m,\u001b[0m \u001b[0mIOError\u001b[0m\u001b[0;34m)\u001b[0m\u001b[0;34m:\u001b[0m\u001b[0;34m\u001b[0m\u001b[0;34m\u001b[0m\u001b[0m\n",
      "\u001b[0;32m~/.local/lib/python3.8/site-packages/wand/api.py\u001b[0m in \u001b[0;36mload_library\u001b[0;34m()\u001b[0m\n\u001b[1;32m    139\u001b[0m         \u001b[0;32mreturn\u001b[0m \u001b[0mlibwand\u001b[0m\u001b[0;34m,\u001b[0m \u001b[0mlibmagick\u001b[0m\u001b[0;34m\u001b[0m\u001b[0;34m\u001b[0m\u001b[0m\n\u001b[0;32m--> 140\u001b[0;31m     \u001b[0;32mraise\u001b[0m \u001b[0mIOError\u001b[0m\u001b[0;34m(\u001b[0m\u001b[0;34m'cannot find library; tried paths: '\u001b[0m \u001b[0;34m+\u001b[0m \u001b[0mrepr\u001b[0m\u001b[0;34m(\u001b[0m\u001b[0mtried_paths\u001b[0m\u001b[0;34m)\u001b[0m\u001b[0;34m)\u001b[0m\u001b[0;34m\u001b[0m\u001b[0;34m\u001b[0m\u001b[0m\n\u001b[0m\u001b[1;32m    141\u001b[0m \u001b[0;34m\u001b[0m\u001b[0m\n",
      "\u001b[0;31mOSError\u001b[0m: cannot find library; tried paths: []",
      "\nDuring handling of the above exception, another exception occurred:\n",
      "\u001b[0;31mImportError\u001b[0m                               Traceback (most recent call last)",
      "\u001b[0;32m<ipython-input-1-52c8dcb9e140>\u001b[0m in \u001b[0;36m<module>\u001b[0;34m\u001b[0m\n\u001b[1;32m     10\u001b[0m \u001b[0;32mfrom\u001b[0m \u001b[0mtika\u001b[0m \u001b[0;32mimport\u001b[0m \u001b[0mparser\u001b[0m\u001b[0;34m\u001b[0m\u001b[0;34m\u001b[0m\u001b[0m\n\u001b[1;32m     11\u001b[0m \u001b[0;32mimport\u001b[0m \u001b[0mre\u001b[0m\u001b[0;34m\u001b[0m\u001b[0;34m\u001b[0m\u001b[0m\n\u001b[0;32m---> 12\u001b[0;31m \u001b[0;32mimport\u001b[0m \u001b[0mpdftotree\u001b[0m\u001b[0;34m\u001b[0m\u001b[0;34m\u001b[0m\u001b[0m\n\u001b[0m",
      "\u001b[0;32m~/.local/lib/python3.8/site-packages/pdftotree/__init__.py\u001b[0m in \u001b[0;36m<module>\u001b[0;34m\u001b[0m\n\u001b[1;32m      4\u001b[0m \u001b[0;34m\u001b[0m\u001b[0m\n\u001b[1;32m      5\u001b[0m \u001b[0;32mfrom\u001b[0m \u001b[0mpdftotree\u001b[0m\u001b[0;34m.\u001b[0m\u001b[0m_version\u001b[0m \u001b[0;32mimport\u001b[0m \u001b[0m__version__\u001b[0m\u001b[0;34m\u001b[0m\u001b[0;34m\u001b[0m\u001b[0m\n\u001b[0;32m----> 6\u001b[0;31m \u001b[0;32mfrom\u001b[0m \u001b[0mpdftotree\u001b[0m\u001b[0;34m.\u001b[0m\u001b[0mcore\u001b[0m \u001b[0;32mimport\u001b[0m \u001b[0mparse\u001b[0m\u001b[0;34m\u001b[0m\u001b[0;34m\u001b[0m\u001b[0m\n\u001b[0m\u001b[1;32m      7\u001b[0m \u001b[0;34m\u001b[0m\u001b[0m\n\u001b[1;32m      8\u001b[0m \u001b[0mlogging\u001b[0m\u001b[0;34m.\u001b[0m\u001b[0mgetLogger\u001b[0m\u001b[0;34m(\u001b[0m\u001b[0m__name__\u001b[0m\u001b[0;34m)\u001b[0m\u001b[0;34m.\u001b[0m\u001b[0maddHandler\u001b[0m\u001b[0;34m(\u001b[0m\u001b[0mlogging\u001b[0m\u001b[0;34m.\u001b[0m\u001b[0mNullHandler\u001b[0m\u001b[0;34m(\u001b[0m\u001b[0;34m)\u001b[0m\u001b[0;34m)\u001b[0m\u001b[0;34m\u001b[0m\u001b[0;34m\u001b[0m\u001b[0m\n",
      "\u001b[0;32m~/.local/lib/python3.8/site-packages/pdftotree/core.py\u001b[0m in \u001b[0;36m<module>\u001b[0;34m\u001b[0m\n\u001b[1;32m     26\u001b[0m \u001b[0;34m\u001b[0m\u001b[0m\n\u001b[1;32m     27\u001b[0m \u001b[0;32mfrom\u001b[0m \u001b[0mpdftotree\u001b[0m\u001b[0;34m.\u001b[0m\u001b[0mTreeExtract\u001b[0m \u001b[0;32mimport\u001b[0m \u001b[0mTreeExtractor\u001b[0m\u001b[0;34m\u001b[0m\u001b[0;34m\u001b[0m\u001b[0m\n\u001b[0;32m---> 28\u001b[0;31m \u001b[0;32mfrom\u001b[0m \u001b[0mpdftotree\u001b[0m\u001b[0;34m.\u001b[0m\u001b[0mTreeVisualizer\u001b[0m \u001b[0;32mimport\u001b[0m \u001b[0mTreeVisualizer\u001b[0m\u001b[0;34m\u001b[0m\u001b[0;34m\u001b[0m\u001b[0m\n\u001b[0m\u001b[1;32m     29\u001b[0m \u001b[0;34m\u001b[0m\u001b[0m\n\u001b[1;32m     30\u001b[0m \u001b[0;34m\u001b[0m\u001b[0m\n",
      "\u001b[0;32m~/.local/lib/python3.8/site-packages/pdftotree/TreeVisualizer.py\u001b[0m in \u001b[0;36m<module>\u001b[0;34m\u001b[0m\n\u001b[1;32m      3\u001b[0m \u001b[0;32mfrom\u001b[0m \u001b[0mbs4\u001b[0m \u001b[0;32mimport\u001b[0m \u001b[0mBeautifulSoup\u001b[0m\u001b[0;34m\u001b[0m\u001b[0;34m\u001b[0m\u001b[0m\n\u001b[1;32m      4\u001b[0m \u001b[0;32mfrom\u001b[0m \u001b[0mIPython\u001b[0m\u001b[0;34m.\u001b[0m\u001b[0mdisplay\u001b[0m \u001b[0;32mimport\u001b[0m \u001b[0mdisplay\u001b[0m\u001b[0;34m\u001b[0m\u001b[0;34m\u001b[0m\u001b[0m\n\u001b[0;32m----> 5\u001b[0;31m \u001b[0;32mfrom\u001b[0m \u001b[0mwand\u001b[0m\u001b[0;34m.\u001b[0m\u001b[0mcolor\u001b[0m \u001b[0;32mimport\u001b[0m \u001b[0mColor\u001b[0m\u001b[0;34m\u001b[0m\u001b[0;34m\u001b[0m\u001b[0m\n\u001b[0m\u001b[1;32m      6\u001b[0m \u001b[0;32mfrom\u001b[0m \u001b[0mwand\u001b[0m\u001b[0;34m.\u001b[0m\u001b[0mdrawing\u001b[0m \u001b[0;32mimport\u001b[0m \u001b[0mDrawing\u001b[0m\u001b[0;34m\u001b[0m\u001b[0;34m\u001b[0m\u001b[0m\n\u001b[1;32m      7\u001b[0m \u001b[0;32mfrom\u001b[0m \u001b[0mwand\u001b[0m\u001b[0;34m.\u001b[0m\u001b[0mimage\u001b[0m \u001b[0;32mimport\u001b[0m \u001b[0mImage\u001b[0m\u001b[0;34m\u001b[0m\u001b[0;34m\u001b[0m\u001b[0m\n",
      "\u001b[0;32m~/.local/lib/python3.8/site-packages/wand/color.py\u001b[0m in \u001b[0;36m<module>\u001b[0;34m\u001b[0m\n\u001b[1;32m      8\u001b[0m \u001b[0;32mimport\u001b[0m \u001b[0mnumbers\u001b[0m\u001b[0;34m\u001b[0m\u001b[0;34m\u001b[0m\u001b[0m\n\u001b[1;32m      9\u001b[0m \u001b[0;34m\u001b[0m\u001b[0m\n\u001b[0;32m---> 10\u001b[0;31m \u001b[0;32mfrom\u001b[0m \u001b[0;34m.\u001b[0m\u001b[0mapi\u001b[0m \u001b[0;32mimport\u001b[0m \u001b[0mlibrary\u001b[0m\u001b[0;34m\u001b[0m\u001b[0;34m\u001b[0m\u001b[0m\n\u001b[0m\u001b[1;32m     11\u001b[0m \u001b[0;32mfrom\u001b[0m \u001b[0;34m.\u001b[0m\u001b[0mcdefs\u001b[0m\u001b[0;34m.\u001b[0m\u001b[0mstructures\u001b[0m \u001b[0;32mimport\u001b[0m \u001b[0mMagickPixelPacket\u001b[0m\u001b[0;34m,\u001b[0m \u001b[0mPixelInfo\u001b[0m\u001b[0;34m\u001b[0m\u001b[0;34m\u001b[0m\u001b[0m\n\u001b[1;32m     12\u001b[0m \u001b[0;32mfrom\u001b[0m \u001b[0;34m.\u001b[0m\u001b[0mcompat\u001b[0m \u001b[0;32mimport\u001b[0m \u001b[0mbinary\u001b[0m\u001b[0;34m,\u001b[0m \u001b[0mtext\u001b[0m\u001b[0;34m\u001b[0m\u001b[0;34m\u001b[0m\u001b[0m\n",
      "\u001b[0;32m~/.local/lib/python3.8/site-packages/wand/api.py\u001b[0m in \u001b[0;36m<module>\u001b[0;34m\u001b[0m\n\u001b[1;32m    173\u001b[0m         \u001b[0;32melif\u001b[0m \u001b[0mdistname\u001b[0m \u001b[0;32min\u001b[0m \u001b[0;34m(\u001b[0m\u001b[0;34m'fedora'\u001b[0m\u001b[0;34m,\u001b[0m \u001b[0;34m'centos'\u001b[0m\u001b[0;34m,\u001b[0m \u001b[0;34m'redhat'\u001b[0m\u001b[0;34m)\u001b[0m\u001b[0;34m:\u001b[0m\u001b[0;34m\u001b[0m\u001b[0;34m\u001b[0m\u001b[0m\n\u001b[1;32m    174\u001b[0m             \u001b[0mmsg\u001b[0m \u001b[0;34m=\u001b[0m \u001b[0;34m'yum install ImageMagick-devel'\u001b[0m\u001b[0;34m\u001b[0m\u001b[0;34m\u001b[0m\u001b[0m\n\u001b[0;32m--> 175\u001b[0;31m     raise ImportError('MagickWand shared library not found.\\n'\n\u001b[0m\u001b[1;32m    176\u001b[0m                       \u001b[0;34m'You probably had not installed ImageMagick library.\\n'\u001b[0m\u001b[0;34m\u001b[0m\u001b[0;34m\u001b[0m\u001b[0m\n\u001b[1;32m    177\u001b[0m                       'Try to install:\\n  ' + msg)\n",
      "\u001b[0;31mImportError\u001b[0m: MagickWand shared library not found.\nYou probably had not installed ImageMagick library.\nTry to install:\n  http://docs.wand-py.org/en/latest/guide/install.html"
     ]
    }
   ],
   "source": [
    "import requests\n",
    "from bs4 import BeautifulSoup\n",
    "import pandas as pd\n",
    "import numpy as np\n",
    "from IPython.core.display import display, HTML\n",
    "from os import listdir\n",
    "from os.path import isfile, join\n",
    "from tabula import read_pdf\n",
    "import PyPDF2\n",
    "from tika import parser\n",
    "import re\n",
    "import pdftotree\n"
   ]
  },
  {
   "cell_type": "code",
   "execution_count": 32,
   "metadata": {
    "scrolled": true
   },
   "outputs": [
    {
     "name": "stdout",
     "output_type": "stream",
     "text": [
      "/home/jonatas/Downloads/TRF5/47.pdf\n",
      "['08068883420164058400', '08004045420174058404', '08002118220164058401', '08002525220164058400', '08020259520174058401', '08048005720154058400', '08008442820184058400', '08001031620174058402', '08001031620174058402', '08124355520164058400', '08002377120164058404', '08001874520164058404', '00007467820154058401', '08005149120194058401', '08010605420164058401', '08001337720194058403', '08060935120184058402', '08018902320164058400', '08002536220154058403', '08002302820154058400', '08002082420164058403', '08007154820174058403', '08005968720174058403', '08003191120164058402', '08072385620154058400', '08018499020154058400', '08003777120174058404', '08003777120174058404', '08003412920174058404', '08117634720164058400', '08016717320174058400', '08028357320174058400', '08066822020164058400', '08000851520194058405', '08002653620164058405', '00000988620154058405', '08020817320134058400', '08044356620164058400', '08039887820164058400', '08039887820164058400', '08001391820184058404', '00000641720154058404', '08000967820184058405', '08060821320184058405', '08000895220194058405', '00002192020154058404', '08002702720174058404', '08003623620164058405', '08005632820164058405', '00079736420114058400', '00008445120154058405', '08060795820184058405', '08062388420164058400', '00014292120154058400', '08072824120164058400', '00010810820124058400', '00010810820124058400', '00010810820124058400', '00010810820124058400', '00010810820124058400', '08130070620194058400', '08060804320184058405', '08062250220184058405', '08001630920194058405', '08006776520194058403', '08015980420174058400', '08062588920184058405', '08002446020164058405', '08005693520164058405', '08003196520174058405', '08024393320164058400', '08000886720194058405', '00064176820044058401', '00002175020154058404', '08003358720154058405', '08003692820164058405', '08002515220164058405', '08002628120164058405', '08001885620184058405', '08062111820184058405', '08001683120194058405']\n",
      "/home/jonatas/Downloads/TRF5/45.pdf\n",
      "['08047484520164058200', '08029597920144058200', '08055210720184058205', '08001373420164058205', '08029201420164058200', '08035458220154058200', '08035458220154058200', '08000452620204058202', '08002309420164058205', '00005266020134058204', '08001500220174058204']\n",
      "/home/jonatas/Downloads/TRF5/49.pdf\n",
      "['08000289320164058504', '08003623920164058501', '08001873620164058504', '08006131420174058504', '08000560220184058501', '08030284220184058501', '08000177320164058501', '08005702320164058501', '08000961820174058501', '08003571720164058501', '08003606920164058501', '08004541720164058501', '08022738920164058500', '08061307520184058500', '08003022320174058504', '08003632420164058501', '08004819420164058502', '05039517520174058502']\n",
      "/home/jonatas/Downloads/TRF5/42.pdf\n",
      "['00065075220034058000', '00034705619994058000', '08067685620184058000', '00090170920014058000', '08002505520154058000', '00037276620084058000', '00106895719984058000', '08046772720174058000', '08068043520174058000', '00000794920064058000', '08058886920154058000', '08063699520164058000', '08000842020154058001', '08023946520164058000', '00008510720094058000', '08003847920154058001', '08004340820154058001', '08003648820154058001', '08012479820164058001', '08003780420174058001', '08047939320184058001', '08002033920194058001', '08024076420164058000', '08000486720184058002', '08003417420174058001', '08004254620154058001', '08002597720164058001', '08014038620164058001', '08001947920164058002', '08000893620154058003', '08002400220154058003', '08042702620144058000', '08004996620164058001', '08001471120164058001', '08047315320184058001', '08000909020164058001', '08000536320164058001', '00014154420134058000', '08002700920164058001', '08002562220164058002', '08015484820164058000', '08047947820184058001', '08001635620164058003', '08101652620184058000', '08001266320154058003', '00000659120084058001', '00026663519924058000']\n",
      "/home/jonatas/Downloads/TRF5/46.pdf\n",
      "['08047820620194058300', '00143022820164058300', '08173251220174058300', '00143066520164058300', '00059857520154058300', '08044700620144058300', '05102875620164058300', '08144096820184058300', '08009360920184058302', '08086788520184058302', '08030803520134058300', '08021350320174058302', '08006964520174058305', '08089118220184058302', '08002048120164058307', '08076679720184058309', '08001614120164058309', '08076722220184058309', '00017498020064058305', '00101016219944058300', '08008982220174058305', '05015366520164058305', '08008352620194058305', '08098449020204058300', '08098449020204058300', '08003140620184058309', '08002106620174058303', '00161104920084058300', '08169094420174058300', '08074860820184058306', '00005369320164058303', '08056072320144058300', '08056072320144058300', '08003417820164058302', '00146963520164058300', '08008267320194058302', '08004071520174058305', '00188570620074058300', '08009746620194058308', '08004724820194058302', '08000933820184058304', '08004159220174058304', '08075927620184058303', '08001748320154058306', '08020959020184058300', '08145161520184058300', '08188659520174058300', '08134506320194058300', '08134506320194058300', '08131333620174058300']\n",
      "/home/jonatas/Downloads/TRF5/44.pdf\n",
      "['00000956320124058106', '08001209320194058107', '08081002220184058109', '08006023520194058109', '00002742920144058105', '08143532420164058100', '08143532420164058100', '00001939420114058102', '08002843220174058106', '08000288820144058108', '00030932320064058103', '08006921420174058109', '08000322020174058109', '08003614720174058104', '00013055920154058102', '08007321720174058102', '00009197020084058103', '08000887120174058103', '00001117820164058105', '08012917120174058102', '08000964820174058103', '08088036820184058103', '08006912920174058109', '08001215220174058106', '08001215220174058106', '00037974020094058100', '08002116620174058104', '08000063720174058104', '00142867320084058100', '08006898020174058102', '08001103220174058103', '08014813120174058103', '00003046420144058105', '08000427020174058107', '00004865320144058104', '00004873820144058104', '00003459720154058104', '00003468220154058104', '08003675420174058104', '08000497120174058104', '08003554020174058104', '00002956820154058105', '08009784720164058102', '08009784720164058102', '00105936220004058100', '08008399220164058103', '08009264320194058103', '08001082820184058103', '08000765720174058103', '08000963920174058106', '08000963920174058106', '08000201520174058106', '08069905420144058100', '08001484120174058104', '08004972920174058109', '08003154620174058108', '08001102320174058106', '08001102320174058106', '08016035820144058100', '08000539320174058109', '08016035820144058100', '00001271120114058104', '08006160220174058105', '08005468220174058105', '08004194120174058107', '08004726820164058103', '08014726920174058103', '08001559820154058105', '08002401320174058106', '00000669120134058101', '08000522620174058104', '08001631020174058104', '08001631020174058104', '08001562120174058103', '00011906920144058103', '00011898420144058103']\n"
     ]
    },
    {
     "data": {
      "application/javascript": [
       "\n",
       "            setTimeout(function() {\n",
       "                var nbb_cell_id = 32;\n",
       "                var nbb_unformatted_code = \"path = \\\"/home/jonatas/Downloads/TRF5\\\"\\n\\nonlyfiles = [path + \\\"/\\\" + f for f in listdir(path) if isfile(join(path, f))]\\nfor file in onlyfiles:\\n    raw = parser.from_file(file)\\n\\n    text = raw[\\\"content\\\"]\\n    print(file)\\n    temp1 = re.findall(r\\\"[0-9]{20}\\\", text)\\n    res2 = list(map(str, temp1))\\n    print(res2)\";\n",
       "                var nbb_formatted_code = \"path = \\\"/home/jonatas/Downloads/TRF5\\\"\\n\\nonlyfiles = [path + \\\"/\\\" + f for f in listdir(path) if isfile(join(path, f))]\\nfor file in onlyfiles:\\n    raw = parser.from_file(file)\\n\\n    text = raw[\\\"content\\\"]\\n    print(file)\\n    temp1 = re.findall(r\\\"[0-9]{20}\\\", text)\\n    res2 = list(map(str, temp1))\\n    print(res2)\";\n",
       "                var nbb_cells = Jupyter.notebook.get_cells();\n",
       "                for (var i = 0; i < nbb_cells.length; ++i) {\n",
       "                    if (nbb_cells[i].input_prompt_number == nbb_cell_id) {\n",
       "                        if (nbb_cells[i].get_text() == nbb_unformatted_code) {\n",
       "                             nbb_cells[i].set_text(nbb_formatted_code);\n",
       "                        }\n",
       "                        break;\n",
       "                    }\n",
       "                }\n",
       "            }, 500);\n",
       "            "
      ],
      "text/plain": [
       "<IPython.core.display.Javascript object>"
      ]
     },
     "metadata": {},
     "output_type": "display_data"
    }
   ],
   "source": [
    "path = \"/home/jonatas/Downloads/TRF5\"\n",
    "\n",
    "onlyfiles = [path + \"/\" + f for f in listdir(path) if isfile(join(path, f))]\n",
    "for file in onlyfiles:\n",
    "    raw = parser.from_file(file)\n",
    "\n",
    "    text = raw[\"content\"]\n",
    "    print(file)\n",
    "    temp1 = re.findall(r\"[0-9]{20}\", text)\n",
    "    res2 = list(map(str, temp1))\n",
    "    print(res2)"
   ]
  }
 ],
 "metadata": {
  "kernelspec": {
   "display_name": "Python 3.8.2 64-bit",
   "language": "python",
   "name": "python38264bita9a0329ecd1948ce89aa60c195c8763d"
  },
  "language_info": {
   "codemirror_mode": {
    "name": "ipython",
    "version": 3
   },
   "file_extension": ".py",
   "mimetype": "text/x-python",
   "name": "python",
   "nbconvert_exporter": "python",
   "pygments_lexer": "ipython3",
   "version": "3.8.2"
  }
 },
 "nbformat": 4,
 "nbformat_minor": 4
}
